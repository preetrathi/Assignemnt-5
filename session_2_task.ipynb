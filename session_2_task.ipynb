{
  "nbformat": 4,
  "nbformat_minor": 0,
  "metadata": {
    "colab": {
      "provenance": [],
      "include_colab_link": true
    },
    "kernelspec": {
      "name": "python3",
      "display_name": "Python 3"
    },
    "language_info": {
      "name": "python"
    }
  },
  "cells": [
    {
      "cell_type": "markdown",
      "metadata": {
        "id": "view-in-github",
        "colab_type": "text"
      },
      "source": [
        "<a href=\"https://colab.research.google.com/github/preetrathi/Assignemnt-5/blob/master/session_2_task.ipynb\" target=\"_parent\"><img src=\"https://colab.research.google.com/assets/colab-badge.svg\" alt=\"Open In Colab\"/></a>"
      ]
    },
    {
      "cell_type": "markdown",
      "source": [
        "### `Problem 1`: Write a program that will give you in hand monthly salary after deduction on CTC - HRA(10%), DA(5%), PF(3%) and taxes deduction as below:\n",
        "\n",
        "> Salary(Lakhs) : Tax(%)\n",
        "\n",
        "*   Below 5 : 0%\n",
        "*   5-10 : 10%\n",
        "*   10-20 : 20%\n",
        "*   aboove 20 : 30%"
      ],
      "metadata": {
        "id": "w6RlOAXV2PWh"
      }
    },
    {
      "cell_type": "code",
      "source": [
        "# Write code here\n",
        "salary = int(input(\"Enter Your Salary in Lakhs: \"))\n",
        "if salary > 0 and salary < 5:\n",
        "  salary = salary\n",
        "elif salary >= 5 and salary < 10:\n",
        "  salary = salary - salary * 0.1\n",
        "elif salary >= 10 and salary < 20:\n",
        "  salary = salary - salary * 0.2\n",
        "elif salary >= 20:\n",
        "  salary = salary - salary * 0.3\n",
        "else:\n",
        "  print(\"Entered wrong Salary\")\n",
        "\n",
        "print(\"{} lakhs...\".format(salary))"
      ],
      "metadata": {
        "id": "7tMHvKYO2etI",
        "outputId": "214702e7-3b00-4894-ad2e-61e48ef7c13e",
        "colab": {
          "base_uri": "https://localhost:8080/"
        }
      },
      "execution_count": 2,
      "outputs": [
        {
          "output_type": "stream",
          "name": "stdout",
          "text": [
            "Enter Your Salary in Lakhs: 12\n",
            "9.6 lakhs...\n"
          ]
        }
      ]
    },
    {
      "cell_type": "markdown",
      "source": [
        "### `Problem 2`: Write a program that take a user input of three angles and will find out whether it can form a triangle or not."
      ],
      "metadata": {
        "id": "tYzCGqwl2hfN"
      }
    },
    {
      "cell_type": "code",
      "source": [
        "# Write code here\n",
        "angle_1 = int(input(\"Enter the first angle: \"))\n",
        "angle_2 = int(input(\"Enter the second angle: \"))\n",
        "angle_3 = int(input(\"Enter the third angle: \"))\n",
        "\n",
        "sum_of_angles = angle_1 + angle_2 + angle_3\n",
        "if sum_of_angles == 180:\n",
        "  print(\"you can form a triangle\")\n",
        "else:\n",
        "  print(\"You can not form a triangle\")"
      ],
      "metadata": {
        "id": "FYEqln-I2kxV",
        "outputId": "2821c8b5-d221-4daf-d49b-f1417fc3a964",
        "colab": {
          "base_uri": "https://localhost:8080/"
        }
      },
      "execution_count": 1,
      "outputs": [
        {
          "output_type": "stream",
          "name": "stdout",
          "text": [
            "Enter the first angle: 56\n",
            "Enter the second angle: 65\n",
            "Enter the third angle: 70\n",
            "You can not form a triangle\n"
          ]
        }
      ]
    },
    {
      "cell_type": "markdown",
      "source": [
        "### `Problem 3`: Write a program that will take user input of cost price and selling price and determines whether its a loss or a profit."
      ],
      "metadata": {
        "id": "5vEpPh8C2pE4"
      }
    },
    {
      "cell_type": "code",
      "source": [
        "# Write code here\n",
        "cost_price = int(input(\"Enter the Cost Price: \"))\n",
        "selling_price = int(input(\"Enter the selling price: \"))\n",
        "profit_loss_formula = selling_price - cost_price\n",
        "if profit_loss_formula > 0:\n",
        "  print(\"You are in Profit\")\n",
        "else:\n",
        "  print(\"You are in Loss\")"
      ],
      "metadata": {
        "id": "jDwBXlkO2sfl",
        "outputId": "dfd6cb01-1002-41a0-b79d-90da9ecbc7c5",
        "colab": {
          "base_uri": "https://localhost:8080/"
        }
      },
      "execution_count": 2,
      "outputs": [
        {
          "output_type": "stream",
          "name": "stdout",
          "text": [
            "Enter the Cost Price: 340\n",
            "Enter the selling price: 400\n",
            "You are in Profit\n"
          ]
        }
      ]
    },
    {
      "cell_type": "markdown",
      "source": [
        "### `Problem 4`: Write a menu-driven program -\n",
        "1. cm to ft\n",
        "2. km to miles\n",
        "3. USD to INR\n",
        "4. exit"
      ],
      "metadata": {
        "id": "J_FG_cJW2ugT"
      }
    },
    {
      "cell_type": "code",
      "source": [
        "# Write code here\n",
        "option = input(\"\"\"\n",
        "  1. cm to ft\n",
        "  2. km to miles\n",
        "  3. USD to PKR\n",
        "  4. exit\n",
        "\"\"\")\n",
        "\n",
        "if option == \"1\":\n",
        "  cm = int(input(\"Enter th CM: \"))\n",
        "  ft = cm * 0.0328084\n",
        "  print(\"{} is equal to {} feet.\".format(cm,ft))\n",
        "elif option == \"2\":\n",
        "  km = int(input(\"Enter th KM: \"))\n",
        "  miles = km * 0.621371\n",
        "  print(\"{} is equal to {} KM.\".format(km,miles))\n",
        "elif option == \"3\":\n",
        "  usd = int(input(\"Enter th USD: \"))\n",
        "  pkr = usd * 286.02\n",
        "  print(\"{} is equal to {} USD.\".format(usd,pkr))\n",
        "else:\n",
        "  print(\"Invalid Input\")\n",
        "\n"
      ],
      "metadata": {
        "id": "yBHhaCGQ2zpD",
        "outputId": "b78ad19e-ed3d-4539-d628-71e0d3a05d6b",
        "colab": {
          "base_uri": "https://localhost:8080/"
        }
      },
      "execution_count": 4,
      "outputs": [
        {
          "output_type": "stream",
          "name": "stdout",
          "text": [
            "\n",
            "  1. cm to ft\n",
            "  2. km to miles\n",
            "  3. USD to PKR\n",
            "  4. exit\n",
            "3\n",
            "Enter th USD9\n",
            "9 is equal to 2574.18 USD.\n"
          ]
        }
      ]
    },
    {
      "cell_type": "markdown",
      "source": [
        "### `Problem 5` - Exercise 12: Display Fibonacci series up to 10 terms.\n",
        "\n",
        "*Note: The Fibonacci Sequence is a series of numbers. The next number is found by adding up the two numbers before it. The first two numbers are 0 and 1. For example, 0, 1, 1, 2, 3, 5, 8, 13, 21. The next number in this series above is 13+21 = 34*"
      ],
      "metadata": {
        "id": "LJJ30_Yw27ZU"
      }
    },
    {
      "cell_type": "code",
      "source": [
        "# Write code here\n",
        "a = 0\n",
        "b = 1\n",
        "count = 0\n",
        "print(a)\n",
        "print(b)\n",
        "while count < 10:\n",
        "  num = a + b\n",
        "  print(num)\n",
        "  a = b\n",
        "  b = num\n",
        "  count += 1"
      ],
      "metadata": {
        "id": "ae_1rpe52-5R",
        "outputId": "4ffcafee-eb08-443e-fe14-9be0e17f6f83",
        "colab": {
          "base_uri": "https://localhost:8080/"
        }
      },
      "execution_count": 7,
      "outputs": [
        {
          "output_type": "stream",
          "name": "stdout",
          "text": [
            "0\n",
            "1\n",
            "1\n",
            "2\n",
            "3\n",
            "5\n",
            "8\n",
            "13\n",
            "21\n",
            "34\n",
            "55\n",
            "89\n"
          ]
        }
      ]
    },
    {
      "cell_type": "markdown",
      "source": [
        "### `Problem 6` - Find the factorial of a given number.\n",
        "\n",
        "Write a program to use the loop to find the factorial of a given number.\n",
        "\n",
        "The factorial (symbol: `!`) means to multiply all whole numbers from the chosen number down to 1.\n",
        "\n",
        "For example: calculate the factorial of 5\n",
        "\n",
        "```bash\n",
        "5! = 5 × 4 × 3 × 2 × 1 = 120\n",
        "```\n",
        "\n",
        "Output:\n",
        "\n",
        "```bash\n",
        "120\n",
        "```"
      ],
      "metadata": {
        "id": "pk_I_S4m3PT5"
      }
    },
    {
      "cell_type": "code",
      "source": [
        "# Write code here\n",
        "fact = 1\n",
        "num = int(input(\"Enter the number: \"))\n",
        "for i in range(num,1,-1):\n",
        "  fact *= i\n",
        "print(fact)"
      ],
      "metadata": {
        "id": "lzXxHegx3Rkc",
        "outputId": "bb7556bc-12f5-44ac-9a94-7d63ed226e2a",
        "colab": {
          "base_uri": "https://localhost:8080/"
        }
      },
      "execution_count": 9,
      "outputs": [
        {
          "output_type": "stream",
          "name": "stdout",
          "text": [
            "Enter the number: 5\n",
            "120\n"
          ]
        }
      ]
    },
    {
      "cell_type": "markdown",
      "source": [
        "### `Problem 7` - Reverse a given integer number.\n",
        "\n",
        "1.   List item\n",
        "\n",
        "1.   List item\n",
        "2.   List item\n",
        "\n",
        "\n",
        "2.   List item\n",
        "\n",
        "\n",
        "\n",
        "Example:\n",
        "\n",
        "`Input:`\n",
        "\n",
        "```bash\n",
        "76542\n",
        "```\n",
        "\n",
        "`Output:`\n",
        "\n",
        "```bash\n",
        "24567\n",
        "```"
      ],
      "metadata": {
        "id": "-17IOi-g3UpU"
      }
    },
    {
      "cell_type": "code",
      "source": [
        "# Write code here\n",
        "reverse_num = 0\n",
        "num = int(input(\"Enter any number: \"))\n",
        "while num != 0:\n",
        "  digit = num%10\n",
        "  reverse_num  = reverse_num * 10 + digit\n",
        "  num = num//10\n",
        "\n",
        "print(reverse_num)\n"
      ],
      "metadata": {
        "id": "wJwLpKCr3aVA",
        "outputId": "a8235446-5365-438c-936c-20d4c036e985",
        "colab": {
          "base_uri": "https://localhost:8080/"
        }
      },
      "execution_count": 19,
      "outputs": [
        {
          "output_type": "stream",
          "name": "stdout",
          "text": [
            "Enter any number1234\n",
            "4321\n"
          ]
        }
      ]
    },
    {
      "cell_type": "markdown",
      "source": [
        "### `Problem 8`: Take a user input as integer N. Find out the sum from 1 to N. If any number if divisible by 5, then skip that number. And if the sum is greater than 300, don't need to calculate the sum further more. Print the final result. And don't use for loop to solve this problem.\n",
        "\n",
        "**Example 1:**\n",
        "\n",
        "`Input:`\n",
        "\n",
        "```bash\n",
        "30\n",
        "```\n",
        "\n",
        "`Output:`\n",
        "\n",
        "```bash\n",
        "276\n",
        "```"
      ],
      "metadata": {
        "id": "-t8PJQaY3sHf"
      }
    },
    {
      "cell_type": "code",
      "source": [
        "# Write code here\n",
        "N = int(input(\"Enter the number: \"))\n",
        "sum = 0\n",
        "for i in range(N):\n",
        "  if i%5 == 0:\n",
        "    continue\n",
        "  else:\n",
        "    if sum < 300:\n",
        "        sum += i\n",
        "    else:\n",
        "      break\n",
        "\n",
        "\n",
        "\n",
        "print(sum)\n",
        ""
      ],
      "metadata": {
        "id": "GZB6mGMP3ujT",
        "outputId": "035ade4d-1ba1-47dd-9f18-242165da3ce1",
        "colab": {
          "base_uri": "https://localhost:8080/"
        }
      },
      "execution_count": 7,
      "outputs": [
        {
          "output_type": "stream",
          "name": "stdout",
          "text": [
            "Enter the number: 30\n",
            "303\n"
          ]
        }
      ]
    },
    {
      "cell_type": "markdown",
      "source": [
        "### `Problem 9`: Write a program that keeps on accepting a number from the user until the user enters Zero. Display the sum and average of all the numbers."
      ],
      "metadata": {
        "id": "Q7ggImeA3xm4"
      }
    },
    {
      "cell_type": "code",
      "source": [
        "# Write code here\n",
        "num = int(input(\"Enter the number: \"))\n",
        "sum = 0\n",
        "count = 0\n",
        "while num != 0:\n",
        "  sum += num\n",
        "  count += 1\n",
        "  num = int(input(\"Enter the number: \"))\n",
        "\n",
        "print(\"Sum is {} and the average of Sum is {}\".format(sum, sum/count))"
      ],
      "metadata": {
        "id": "t_YDSZDe4Kdo",
        "outputId": "52cc085b-849a-4aad-cab0-be89f71dfe9e",
        "colab": {
          "base_uri": "https://localhost:8080/"
        }
      },
      "execution_count": 11,
      "outputs": [
        {
          "output_type": "stream",
          "name": "stdout",
          "text": [
            "Enter the number: 4\n",
            "Enter the number: 3\n",
            "Enter the number: 6\n",
            "Enter the number: 1\n",
            "Enter the number: 2\n",
            "Enter the number: 5\n",
            "Enter the number: 0\n",
            "Sum is 21 and the average of Sum is 3.5\n"
          ]
        }
      ]
    },
    {
      "cell_type": "markdown",
      "source": [
        "###`Problem 9`: Write a program which will find all such numbers which are divisible by 7 but are not a multiple of 5, between 2000 and 3200 (both included). The numbers obtained should be printed in a comma-separated sequence on a single line."
      ],
      "metadata": {
        "id": "6EhvEMvm4R7s"
      }
    },
    {
      "cell_type": "code",
      "source": [
        "# Write code here\n",
        "L = []\n",
        "for i in range(2000,3201):\n",
        "  if i%7 == 0 and i%5 != 0:\n",
        "    L.append(i)\n",
        "\n",
        "print(L)"
      ],
      "metadata": {
        "id": "d6RgP1B34T6c",
        "outputId": "eaafb75b-0213-43e6-af67-2672789e9e89",
        "colab": {
          "base_uri": "https://localhost:8080/"
        }
      },
      "execution_count": 13,
      "outputs": [
        {
          "output_type": "stream",
          "name": "stdout",
          "text": [
            "[2002, 2009, 2016, 2023, 2037, 2044, 2051, 2058, 2072, 2079, 2086, 2093, 2107, 2114, 2121, 2128, 2142, 2149, 2156, 2163, 2177, 2184, 2191, 2198, 2212, 2219, 2226, 2233, 2247, 2254, 2261, 2268, 2282, 2289, 2296, 2303, 2317, 2324, 2331, 2338, 2352, 2359, 2366, 2373, 2387, 2394, 2401, 2408, 2422, 2429, 2436, 2443, 2457, 2464, 2471, 2478, 2492, 2499, 2506, 2513, 2527, 2534, 2541, 2548, 2562, 2569, 2576, 2583, 2597, 2604, 2611, 2618, 2632, 2639, 2646, 2653, 2667, 2674, 2681, 2688, 2702, 2709, 2716, 2723, 2737, 2744, 2751, 2758, 2772, 2779, 2786, 2793, 2807, 2814, 2821, 2828, 2842, 2849, 2856, 2863, 2877, 2884, 2891, 2898, 2912, 2919, 2926, 2933, 2947, 2954, 2961, 2968, 2982, 2989, 2996, 3003, 3017, 3024, 3031, 3038, 3052, 3059, 3066, 3073, 3087, 3094, 3101, 3108, 3122, 3129, 3136, 3143, 3157, 3164, 3171, 3178, 3192, 3199]\n"
          ]
        }
      ]
    },
    {
      "cell_type": "markdown",
      "source": [
        "###`Problem 10`: Write a program, which will find all such numbers between 1000 and 3000 (both included) such that each digit of the number is an even number. The numbers obtained should be printed in a space-separated sequence on a single line.\n",
        "\n"
      ],
      "metadata": {
        "id": "tYvmRR-G4Vp4"
      }
    },
    {
      "cell_type": "code",
      "source": [
        "# Write code here"
      ],
      "metadata": {
        "id": "k6Gs1kIf4k19"
      },
      "execution_count": null,
      "outputs": []
    },
    {
      "cell_type": "markdown",
      "source": [
        "###`Problem 11`: A robot moves in a plane starting from the original point (0,0). The robot can move toward UP, DOWN, LEFT and RIGHT with a given steps.\n",
        "The trace of robot movement is shown as the following:\n",
        "```\n",
        "UP 5\n",
        "DOWN 3\n",
        "LEFT 3\n",
        "RIGHT 2\n",
        "!\n",
        "```\n",
        "> The numbers after the direction are steps.\n",
        "\n",
        "> `!` means robot stop there.\n",
        "\n",
        "**Please write a program to compute the distance from current position after a sequence of movement and original point.**\n",
        "\n",
        "*If the distance is a float, then just print the nearest integer.*\n",
        "\n",
        "Example:\n",
        "\n",
        "`Input`:\n",
        "```\n",
        "UP 5\n",
        "DOWN 3\n",
        "LEFT 3\n",
        "RIGHT 2\n",
        "!\n",
        "```\n",
        "`Output`:\n",
        "```\n",
        "2\n",
        "```"
      ],
      "metadata": {
        "id": "GV18IINT4mf5"
      }
    },
    {
      "cell_type": "code",
      "source": [
        "def calculate_final_position(trace):\n",
        "    x, y = 0, 0\n",
        "\n",
        "    for step in trace:\n",
        "        direction, distance = step.split()\n",
        "        distance = int(distance)\n",
        "\n",
        "        if direction == 'UP':\n",
        "            y += distance\n",
        "        elif direction == 'DOWN':\n",
        "            y -= distance\n",
        "        elif direction == 'LEFT':\n",
        "            x -= distance\n",
        "        elif direction == 'RIGHT':\n",
        "            x += distance\n",
        "\n",
        "    return (x, y)\n",
        "\n",
        "if __name__ == \"__main__\":\n",
        "    trace = [\"UP 5\", \"DOWN 3\", \"LEFT 3\", \"RIGHT 2\"]\n",
        "    final_position = calculate_final_position(trace)\n",
        "    print(\"Final position:\", final_position)\n"
      ],
      "metadata": {
        "id": "G3wHXelNh_WG",
        "outputId": "4145fe9c-27d0-4403-f104-c2a7e5c721f1",
        "colab": {
          "base_uri": "https://localhost:8080/"
        }
      },
      "execution_count": 14,
      "outputs": [
        {
          "metadata": {
            "tags": null
          },
          "name": "stdout",
          "output_type": "stream",
          "text": [
            "Final position: (-1, 2)\n"
          ]
        }
      ]
    },
    {
      "cell_type": "code",
      "source": [
        "# Write code here"
      ],
      "metadata": {
        "id": "6UNMC2aR4w5x"
      },
      "execution_count": null,
      "outputs": []
    },
    {
      "cell_type": "markdown",
      "source": [
        "###`Problem 12`:Write a program to print whether a given number is a prime\n",
        "\n",
        "*   List item\n",
        "*   List item\n",
        "\n",
        "number or not"
      ],
      "metadata": {
        "id": "3fsAIAhK5GYY"
      }
    },
    {
      "cell_type": "code",
      "source": [
        "# Write code here\n",
        "num = int(input(\"Enter a Number: \"))\n",
        "count = 0\n",
        "for i in range(2,num+1):\n",
        "  if num%i == 0:\n",
        "    count += 1\n",
        "\n",
        "if count == 1:\n",
        "  print(\"Prime number\")\n",
        "else:\n",
        "  print(\"Not Prime Number\")"
      ],
      "metadata": {
        "id": "j6y91lxy5LZs",
        "outputId": "1f251c72-0531-44c3-efa8-71c7e989460f",
        "colab": {
          "base_uri": "https://localhost:8080/"
        }
      },
      "execution_count": 20,
      "outputs": [
        {
          "output_type": "stream",
          "name": "stdout",
          "text": [
            "Enter a Number: 4\n",
            "Not Prime Number\n"
          ]
        }
      ]
    },
    {
      "cell_type": "code",
      "source": [
        "def is_prime(number):\n",
        "    if number < 2:\n",
        "        return False\n",
        "    for i in range(2, int(number**0.5) + 1):\n",
        "        if number % i == 0:\n",
        "            return False\n",
        "    return True\n",
        "\n",
        "if __name__ == \"__main__\":\n",
        "    try:\n",
        "        num = int(input(\"Enter a Number: \"))\n",
        "        if is_prime(num):\n",
        "            print(\"Prime number\")\n",
        "        else:\n",
        "            print(\"Not Prime Number\")\n",
        "    except ValueError:\n",
        "        print(\"Invalid input. Please enter a valid integer.\")\n"
      ],
      "metadata": {
        "id": "muMOfFKfjug4",
        "outputId": "1d3f46b5-cbb1-4dad-e361-656bf3833af2",
        "colab": {
          "base_uri": "https://localhost:8080/"
        }
      },
      "execution_count": 21,
      "outputs": [
        {
          "output_type": "stream",
          "name": "stdout",
          "text": [
            "Enter a Number: 7\n",
            "Prime number\n"
          ]
        }
      ]
    },
    {
      "cell_type": "markdown",
      "source": [
        "###`Problem 13`:Print all the Armstrong numbers in a given range.\n",
        "Range will be provided by the user<br>\n",
        "Armstrong number is a number that is equal to the sum of cubes of its digits. For example 0, 1, 153, 370, 371 and 407 are the Armstrong numbers."
      ],
      "metadata": {
        "id": "asAbmbK-5NHv"
      }
    },
    {
      "cell_type": "code",
      "source": [
        "# Write code here\n",
        "def is_armstrong_number(number):\n",
        "  str_number = str(number)\n",
        "  # num_digits = len(str_number)\n",
        "  total = sum(int(digit)**3 for digit in str_number)\n",
        "  return total == number\n",
        "\n",
        "def print_armstrong_number(start,end):\n",
        "  print(f\"Armstrong numbers between {start} and {end}\")\n",
        "  for num in range(start, end+1):\n",
        "    if is_armstrong_number(num):\n",
        "      print(num)\n",
        "\n",
        "\n",
        "if __name__ == \"__main__\":\n",
        "  try:\n",
        "    start = int(input(\"Enter the Starting range: \"))\n",
        "    end = int(input(\"Enter the ending range: \"))\n",
        "    print_armstrong_number(start,end)\n",
        "  except ValueError:\n",
        "    print(\"Invalid Input, Enter Valid Integer\")"
      ],
      "metadata": {
        "id": "PZuI67pm5jCT",
        "outputId": "9cc3bbd2-9b27-49d3-9f12-8ac7304c00c8",
        "colab": {
          "base_uri": "https://localhost:8080/"
        }
      },
      "execution_count": 8,
      "outputs": [
        {
          "output_type": "stream",
          "name": "stdout",
          "text": [
            "Enter the Starting range: 0\n",
            "Enter the ending range500\n",
            "Armstrong numbers between 0 and 500\n",
            "0\n",
            "1\n",
            "153\n",
            "370\n",
            "371\n",
            "407\n"
          ]
        }
      ]
    },
    {
      "cell_type": "markdown",
      "source": [
        "###`Problem 14`:Calculate the angle between the hour hand and minute hand.\n",
        "\n",
        "Note: There can be two angles between hands; we need to print a minimum of two. Also, we need to print the floor of the final result angle. For example, if the final angle is 10.61, we need to print 10.\n",
        "\n",
        "Input:<br>\n",
        "H = 9 , M = 0<br>\n",
        "Output:<br>\n",
        "90<br>\n",
        "Explanation:<br>\n",
        "The minimum angle between hour and minute\n",
        "hand when the time is 9 is 90 degress."
      ],
      "metadata": {
        "id": "ClCQZMqT7gK0"
      }
    },
    {
      "cell_type": "code",
      "source": [
        "# Write code here\n",
        "def calc_hour_minute_angel(hour,minute):\n",
        "  # calculating the angle\n",
        "  angle = abs(30*hour - (11/2)*minute)\n",
        "\n",
        "  # returning the smallest angle between the two possible angles\n",
        "  return min(angle, 360-angle)\n",
        "\n",
        "if __name__ == \"__main__\":\n",
        "  try:\n",
        "    hour = int(input(\"Enter the Hour: \"))\n",
        "    minute = int(input(\"Enter the Minute: \"))\n",
        "    angle = calc_hour_minute_angel(hour,minute)\n",
        "    print(\"The angle between hour and minute is\", angle, \"Degree\")\n",
        "  except ValueError as e:\n",
        "    print(e)\n"
      ],
      "metadata": {
        "id": "tNBTCZML7jy_",
        "outputId": "8b6a401e-5087-4c51-9257-ca37613c86b1",
        "colab": {
          "base_uri": "https://localhost:8080/"
        }
      },
      "execution_count": 12,
      "outputs": [
        {
          "output_type": "stream",
          "name": "stdout",
          "text": [
            "Enter the Hour: f\n",
            "invalid literal for int() with base 10: 'f'\n"
          ]
        }
      ]
    },
    {
      "cell_type": "markdown",
      "source": [
        "###`Problem 15`:Given two rectangles, find if the given two rectangles overlap or not. A rectangle is denoted by providing the x and y coordinates of two points: the left top corner and the right bottom corner of the rectangle. Two rectangles sharing a side are considered overlapping. (L1 and R1 are the extreme points of the first rectangle and L2 and R2 are the extreme points of the second rectangle).\n",
        "\n",
        "Note: It may be assumed that the rectangles are parallel to the coordinate axis.\n",
        "\n",
        "<img src='https://www.geeksforgeeks.org/wp-content/uploads/rectanglesOverlap.png' width='300' height='200'>"
      ],
      "metadata": {
        "id": "GwacF9Co72Qc"
      }
    },
    {
      "cell_type": "code",
      "source": [
        "# Write code here"
      ],
      "metadata": {
        "id": "6rrw_lpH78Rs"
      },
      "execution_count": null,
      "outputs": []
    }
  ]
}